{
 "cells": [
  {
   "cell_type": "markdown",
   "metadata": {},
   "source": [
    "# Frontned"
   ]
  },
  {
   "cell_type": "code",
   "execution_count": null,
   "metadata": {
    "vscode": {
     "languageId": "plaintext"
    }
   },
   "outputs": [],
   "source": [
    "npx create-vite@latest\n",
    "or\n",
    "npx create-vite frontend --template react\n",
    "\n",
    "cd frontend\n",
    "npm i \n",
    "\n",
    "npm install react-router-dom redux react-redux @reduxjs/toolkit axios socket.io-client xlsx\n",
    "\n",
    "#.env:\n",
    "VITE_API_URL=http://localhost:5000\n",
    "\n",
    "\n",
    "npm run dev"
   ]
  },
  {
   "cell_type": "markdown",
   "metadata": {},
   "source": [
    "# Backend"
   ]
  },
  {
   "cell_type": "code",
   "execution_count": null,
   "metadata": {
    "vscode": {
     "languageId": "plaintext"
    }
   },
   "outputs": [],
   "source": [
    "mkdir backend\n",
    "cd backend\n",
    "\n",
    "npm init -y\n",
    "\n",
    "npm install express dotenv cors bcryptjs jsonwebtoken multer ws @elastic/elasticsearch swagger-jsdoc swagger-ui-express xlsx\n",
    "\n",
    "\n",
    "#.env:\n",
    "PORT=5000\n",
    "JWT_SECRET=your_secret_key\n",
    "\n",
    "\n",
    "node server.js\n",
    "or\n",
    "npm start\n"
   ]
  }
 ],
 "metadata": {
  "language_info": {
   "name": "python"
  }
 },
 "nbformat": 4,
 "nbformat_minor": 2
}
